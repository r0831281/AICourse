{
 "cells": [
  {
   "cell_type": "markdown",
   "metadata": {},
   "source": [
    "# Transfer Learning\n",
    "\n",
    "Transfer learning is a machine learning technique where a model trained on one task, is reused as the starting point for a model on a second **related** task. \n",
    "\n",
    "It is a popular approach in deep learning where **pre-trained models** are used as the starting point on computer vision and natural language processing tasks given the vast compute and time resources required to develop neural network models on these problems, and from the **huge jumps in performance** that they provide on related problems.\n",
    "\n",
    "A pre-trained model is a saved network that was previously trained on a large dataset, typically on a large-scale image-classification task or a natural language processing (NLP) task. \n",
    "\n",
    "By using a pre-trained model as a starting point, we can leverage the features learned by the model on the source task and adapt them to the target task. \n",
    "\n",
    "This can save time, resources, and data, as well as improve the performance of the model on the target task. Depending on the similarity between the source and target tasks and the amount of data available for the target task, we can either use the pre-trained model as a fixed **feature extractor** (use the pre-trained network as-is, with a new output layer) or **fine-tune** some or all of its layers.\n",
    "\n",
    "In other words, transfer learning is like standing on the shoulders of giants, as we can benefit from the previous work and knowledge of others to solve new problems.\n",
    "\n",
    "<img src=\"https://3starlearningexperiences.files.wordpress.com/2018/12/giants.jpg\" />"
   ]
  }
 ],
 "metadata": {
  "language_info": {
   "name": "python"
  },
  "orig_nbformat": 4
 },
 "nbformat": 4,
 "nbformat_minor": 2
}
