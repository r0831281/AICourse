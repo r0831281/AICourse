{
 "cells": [
  {
   "cell_type": "markdown",
   "metadata": {},
   "source": [
    "# Constraint Satisfaction Problems\n",
    "\n",
    "As we saw, many AI problems can be modelled as a graph of states that a problem can be in. We then use a search algorithm to find a path in this graph that leads to the solution. One type of problems that can be solved in this manner are Constraint Satisfaction Problems. Constraints are basically conditions that cannot be violated during the process of solving the problem. When we arrive at the final solution, the states of the variables must obey all the constraints. \n",
    "\n",
    "Now, let us try to apply this to some real world problems. We will start with two relatively simple examples."
   ]
  },
  {
   "cell_type": "markdown",
   "metadata": {},
   "source": [
    "## 1. Hello World\n",
    "\n",
    "We could try to implement the search algorithms ourselves (using our knowledge of graphs), but since this would be a little difficult, we will be using a library. Let us first use the python library *python-constraint* to solve a very basic constraint problem.\n",
    "\n",
    "First install the library using following command:"
   ]
  },
  {
   "cell_type": "code",
   "execution_count": 1,
   "metadata": {},
   "outputs": [
    {
     "name": "stdout",
     "output_type": "stream",
     "text": [
      "Collecting python-constraintNote: you may need to restart the kernel to use updated packages.\n",
      "\n",
      "  Downloading python-constraint-1.4.0.tar.bz2 (18 kB)\n",
      "  Installing build dependencies: started\n",
      "  Installing build dependencies: finished with status 'done'\n",
      "  Getting requirements to build wheel: started\n",
      "  Getting requirements to build wheel: finished with status 'done'\n",
      "  Installing backend dependencies: started\n",
      "  Installing backend dependencies: finished with status 'done'\n",
      "  Preparing metadata (pyproject.toml): started\n",
      "  Preparing metadata (pyproject.toml): finished with status 'done'\n",
      "Building wheels for collected packages: python-constraint\n",
      "  Building wheel for python-constraint (pyproject.toml): started\n",
      "  Building wheel for python-constraint (pyproject.toml): finished with status 'done'\n",
      "  Created wheel for python-constraint: filename=python_constraint-1.4.0-py2.py3-none-any.whl size=24085 sha256=7a87dd7847e76c4fe96ee20236ff49902b4c3a6b4359de33d304c2e2f729dcf1\n",
      "  Stored in directory: c:\\users\\jonas\\appdata\\local\\pip\\cache\\wheels\\c1\\d2\\3d\\082849b61a9c6de02d4a7c8a402c224640f08d8a971307b92b\n",
      "Successfully built python-constraint\n",
      "Installing collected packages: python-constraint\n",
      "Successfully installed python-constraint-1.4.0\n"
     ]
    }
   ],
   "source": [
    "pip install python-constraint"
   ]
  },
  {
   "cell_type": "code",
   "execution_count": null,
   "metadata": {},
   "outputs": [],
   "source": [
    "# we will use the python range function\n",
    "\n",
    "for i in range(5):\n",
    "    print(i)"
   ]
  },
  {
   "cell_type": "markdown",
   "metadata": {},
   "source": [
    "Now define a constraint problem with two variables within a specific range."
   ]
  },
  {
   "cell_type": "code",
   "execution_count": 5,
   "metadata": {},
   "outputs": [],
   "source": [
    "from constraint import *\n",
    "problem = Problem()\n",
    "\n",
    "problem.addVariable('a', range(8))\n",
    "problem.addVariable('b', range(28))"
   ]
  },
  {
   "cell_type": "markdown",
   "metadata": {},
   "source": [
    "Add the constraint the variables must obey."
   ]
  },
  {
   "cell_type": "code",
   "execution_count": 6,
   "metadata": {},
   "outputs": [],
   "source": [
    "# the lambda expression states that for every solution b must be two times a\n",
    "problem.addConstraint(lambda a, b: a * 2 == b)"
   ]
  },
  {
   "cell_type": "markdown",
   "metadata": {},
   "source": [
    "Let's see what solutions can be found. Check the results! Are the constraints satisfied?"
   ]
  },
  {
   "cell_type": "code",
   "execution_count": 7,
   "metadata": {},
   "outputs": [
    {
     "name": "stdout",
     "output_type": "stream",
     "text": [
      "[{'a': 7, 'b': 14}, {'a': 6, 'b': 12}, {'a': 5, 'b': 10}, {'a': 4, 'b': 8}, {'a': 3, 'b': 6}, {'a': 2, 'b': 4}, {'a': 1, 'b': 2}, {'a': 0, 'b': 0}]\n"
     ]
    }
   ],
   "source": [
    "solutions = problem.getSolutions()\n",
    "print (solutions)"
   ]
  },
  {
   "cell_type": "markdown",
   "metadata": {},
   "source": [
    "## 2. Numbers and values\n",
    "\n",
    "One more simple example before getting to the real stuff. We will be using a package called *simpleai*. It contains various routines that are useful in building solutions using heuristic search techniques.\n",
    "\n",
    "First install the library using following command:"
   ]
  },
  {
   "cell_type": "code",
   "execution_count": 8,
   "metadata": {},
   "outputs": [
    {
     "name": "stdout",
     "output_type": "stream",
     "text": [
      "Requirement already satisfied: simpleai in c:\\python312\\lib\\site-packages (0.8.3)Note: you may need to restart the kernel to use updated packages.\n",
      "\n"
     ]
    }
   ],
   "source": [
    "pip install simpleai"
   ]
  },
  {
   "cell_type": "code",
   "execution_count": 10,
   "metadata": {},
   "outputs": [
    {
     "name": "stdout",
     "output_type": "stream",
     "text": [
      "{1, 2, 3, 4}\n"
     ]
    }
   ],
   "source": [
    "# we will use the python set function to remove duplicated values in a collection of values\n",
    "\n",
    "print(set({ 1, 2, 3, 1, 2, 4, 3}))"
   ]
  },
  {
   "cell_type": "markdown",
   "metadata": {},
   "source": [
    "We will first import the necessary classes and define the problem."
   ]
  },
  {
   "cell_type": "code",
   "execution_count": 35,
   "metadata": {},
   "outputs": [],
   "source": [
    "from simpleai.search import CspProblem, backtrack\n",
    "\n",
    "# we will try to find the value of four variables named number1, number2, number3, number4\n",
    "variables = ('number1', 'number2', 'number3', 'number4')\n",
    "\n",
    "# the list of values that each variable can take\n",
    "domains = {\n",
    "    'number1': [1, 2, 3],\n",
    "    'number2': [1, 3],\n",
    "    'number3': [2, 4],\n",
    "    'number4': [2, 3, 4],\n",
    "}\n",
    "\n",
    "# define all the constraints, a constraint is a function with two parameters: variables and values\n",
    "# the constraint returns true if the values obey the constraint, false otherwise\n",
    "\n",
    "# a constraint that expects all the different variables to have different values\n",
    "def constraint_unique(variables, values):\n",
    "    print(values)\n",
    "    # check if all the values are unique\n",
    "    if len(values) == len(set(values)): # remove repeated values and count\n",
    "        return True\n",
    "    else:\n",
    "        return False\n",
    "\n",
    "# a constraint that expects the first variable to be bigger than the second\n",
    "def constraint_bigger(variables, values):\n",
    "    return values[0] > values[1] # short notation (if-then-else is not necessary)\n",
    "\n",
    "# a constraint that expects two variables to be one odd and the other even\n",
    "def constraint_odd_even(variables, values):\n",
    "    if values[0] % 2 == 0:\n",
    "        return values[1] % 2 == 1  # first even, expect second to be odd\n",
    "    else:\n",
    "        return values[1] % 2 == 0  # first odd, expect second to be even"
   ]
  },
  {
   "cell_type": "markdown",
   "metadata": {},
   "source": [
    "Define the constraints for various scenarios. In this case, we specify three constraints as follows:\n",
    "    \n",
    "1. number1, number2 and number3 should be different values\n",
    "2. number3 should be bigger than number2\n",
    "3. if number1 is odd, then number4 value should be even and vice versa\n",
    "\n",
    "And finaly search for a solution."
   ]
  },
  {
   "cell_type": "code",
   "execution_count": 36,
   "metadata": {},
   "outputs": [
    {
     "name": "stdout",
     "output_type": "stream",
     "text": [
      "(1, 1, 2)\n",
      "(1, 1, 4)\n",
      "(1, 3, 4)\n",
      "(1, 3, 4)\n",
      "\n",
      "Solutions: {'number1': 1, 'number2': 3, 'number3': 4, 'number4': 2}\n"
     ]
    }
   ],
   "source": [
    "constraints = [\n",
    "    (('number1', 'number2', 'number3'), constraint_unique),\n",
    "    (('number3', 'number2'), constraint_bigger),\n",
    "    (('number1', 'number4'), constraint_odd_even),\n",
    "]\n",
    "\n",
    "problem = CspProblem(variables, domains, constraints)\n",
    "\n",
    "output = backtrack(problem)\n",
    "print('\\nSolutions:', output)"
   ]
  },
  {
   "cell_type": "markdown",
   "metadata": {},
   "source": [
    "You can check the __domains__ and the __constraints__ to see if the solutions satisfy all those constraints. By the way, there is more then one solution, the search algorithm stops after finding the first one."
   ]
  },
  {
   "cell_type": "markdown",
   "metadata": {},
   "source": [
    "## 3. Sudoku - Exercise\n",
    "\n",
    "Can you try to solve the following simplified sudoku puzzle? The aim is to fill the grid so that each row, column and box contains the same numbers (1 to 4).\n",
    "\n",
    "<img src=\"./resources/sudoku.png\"  style=\"height: 200px\"/>\n",
    "\n",
    "With a little more programming effort, you could use the same technique to solve a real sudoku (if you don't know what to do this evening)."
   ]
  },
  {
   "cell_type": "code",
   "execution_count": 32,
   "metadata": {},
   "outputs": [
    {
     "name": "stdout",
     "output_type": "stream",
     "text": [
      "[(0, 0), (0, 1), (0, 2), (0, 3), (1, 0), (1, 1), (1, 2), (1, 3), (2, 0), (2, 1), (2, 2), (2, 3), (3, 0), (3, 1), (3, 2), (3, 3)]\n",
      "{(0, 0): [1, 2, 3, 4], (0, 1): [1, 2, 3, 4], (0, 2): [4], (0, 3): [3], (1, 0): [1, 2, 3, 4], (1, 1): [1, 2, 3, 4], (1, 2): [1, 2, 3, 4], (1, 3): [1, 2, 3, 4], (2, 0): [1, 2, 3, 4], (2, 1): [1, 2, 3, 4], (2, 2): [1, 2, 3, 4], (2, 3): [1, 2, 3, 4], (3, 0): [2], (3, 1): [3], (3, 2): [1, 2, 3, 4], (3, 3): [1, 2, 3, 4]}\n",
      "\n",
      "Solutions: {(0, 0): 1, (0, 1): 2, (0, 2): 4, (0, 3): 3, (1, 0): 3, (1, 1): 4, (1, 2): 2, (1, 3): 1, (2, 0): 4, (2, 1): 1, (2, 2): 3, (2, 3): 2, (3, 0): 2, (3, 1): 3, (3, 2): 1, (3, 3): 4}\n"
     ]
    }
   ],
   "source": [
    "from simpleai.search import CspProblem, backtrack\n",
    "\n",
    "variables = [(x, y) for x in range(4) for y in range(4)]\n",
    "domains = {(0,0): list(range(1,5)), (0,1): list(range(1,5)), (0,2): [4], (0,3): [3],\n",
    "           (1,0): list(range(1,5)), (1,1): list(range(1,5)), (1,2): list(range(1,5)), (1,3): list(range(1,5)),\n",
    "           (2,0): list(range(1,5)), (2,1): list(range(1,5)), (2,2): list(range(1,5)), (2,3): list(range(1,5)),\n",
    "           (3,0): [2], (3,1): [3], (3,2): list(range(1,5)), (3,3): list(range(1,5))}\n",
    "print(variables)\n",
    "print(domains)\n",
    "\n",
    "\n",
    "\n",
    "def constraint_unique_row(variables, values):\n",
    "    return len(values) == len(set(values))\n",
    "\n",
    "def constraint_unique_column(variables, values):\n",
    "    return len(values) == len(set(values))\n",
    "\n",
    "def constraint_unique_diagonal(variables, values):\n",
    "    return len(values) == len(set(values))\n",
    "\n",
    "\n",
    "constraints = []\n",
    "\n",
    "for x in range(4):\n",
    "    row = [(x, y) for y in range(4)]\n",
    "    constraints.append((row, constraint_unique_row))\n",
    "    \n",
    "for y in range(4):\n",
    "    column = [(x, y) for x in range(4)]\n",
    "    constraints.append((column, constraint_unique_column))\n",
    "\n",
    "for x in range(4):\n",
    "    subSquare = [(x + i, y + j) for i in range(2) for j in range(2)]\n",
    "    constraints.append((subSquare, constraint_unique_diagonal))\n",
    "\n",
    "\n",
    "        \n",
    "problem = CspProblem(variables, domains, constraints)\n",
    "output = backtrack(problem)\n",
    "print('\\nSolutions:', output)\n",
    "\n"
   ]
  }
 ],
 "metadata": {
  "kernelspec": {
   "display_name": "Python 3.9.13 64-bit (microsoft store)",
   "language": "python",
   "name": "python3"
  },
  "language_info": {
   "codemirror_mode": {
    "name": "ipython",
    "version": 3
   },
   "file_extension": ".py",
   "mimetype": "text/x-python",
   "name": "python",
   "nbconvert_exporter": "python",
   "pygments_lexer": "ipython3",
   "version": "3.12.2"
  },
  "vscode": {
   "interpreter": {
    "hash": "c793b23a15265166c51982d7cbd6f1cfd9bae4bf2bd11a226366ff427026a849"
   }
  }
 },
 "nbformat": 4,
 "nbformat_minor": 2
}
