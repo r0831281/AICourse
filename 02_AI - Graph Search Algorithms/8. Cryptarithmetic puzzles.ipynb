{
 "cells": [
  {
   "cell_type": "markdown",
   "metadata": {},
   "source": [
    "# Cryptarithmetic Puzzles\n",
    "\n",
    "A cryptarithmetic puzzle is a mathematical exercise where each letter in an arithmetic operation represents a unique digit. The goal is to find the digits such that a given mathematical equation is verified:\n",
    "\n",
    "<img src=\"./resources/cp.png\"/>"
   ]
  },
  {
   "cell_type": "markdown",
   "metadata": {},
   "source": [
    "## 1. TWO + TWO = FOUR\n",
    "\n",
    "We will try to find a solution for:\n",
    "\n",
    "```\n",
    "  TWO\n",
    "+ TWO\n",
    "-----\n",
    " FOUR\n",
    "```\n",
    "\n",
    "For TWO + TWO = FOUR, the constraints are as follows:\n",
    "\n",
    "- The equation: TWO + TWO = FOUR.\n",
    "- Each of the six letters must be a different digit.\n",
    "- T and F can't be zero (since we don't write leading zeros in numbers)."
   ]
  },
  {
   "cell_type": "code",
   "execution_count": null,
   "metadata": {},
   "outputs": [],
   "source": [
    "# we will create a list of possible values as follows\n",
    "list(range(1, 10))"
   ]
  },
  {
   "cell_type": "markdown",
   "metadata": {},
   "source": [
    "I think you can figure out the program logic yourself. Run the program and check if the solution is right."
   ]
  },
  {
   "cell_type": "code",
   "execution_count": null,
   "metadata": {},
   "outputs": [],
   "source": [
    "from simpleai.search import CspProblem, backtrack\n",
    "\n",
    "variables = ('F', 'T', 'U', 'W', 'R', 'O', 'C_10', 'C_100', 'C_1000')\n",
    "\n",
    "# the list of values that each variable can take\n",
    "domains = {\n",
    "    'F': list(range(1, 10)),\n",
    "    'T': list(range(1, 10)),\n",
    "    'U': list(range(0, 10)),\n",
    "    'W': list(range(0, 10)),\n",
    "    'R': list(range(0, 10)),\n",
    "    'O': list(range(0, 10)),\n",
    "    'C_10': list(range(0, 10)),\n",
    "    'C_100': list(range(0, 10)),\n",
    "    'C_1000': list(range(1, 10)),\n",
    "}\n",
    "\n",
    "def constraint_unique(variables, values):\n",
    "    return len(values) == len(set(values))  # remove repeated values and count\n",
    "\n",
    "def constraint_1(variables, values):\n",
    "    # O + O = R + 10 * C_10\n",
    "    return values[0] + values[0] == values[1] + 10 * values[2]\n",
    "\n",
    "def constraint_2(variables, values):\n",
    "    # C_10 + W + W = U + 10 * C_100\n",
    "    return values[0] + values[1] + values[1] == values[2] + 10 * values[3]\n",
    "\n",
    "def constraint_3(variables, values):\n",
    "    # C_100 + T + T = O + 10 * C_1000\n",
    "    return values[0] + values[1] + values[1] == values[2] + 10 * values[3]\n",
    "\n",
    "def constraint_4(variables, values):\n",
    "    # C_1000 = F\n",
    "    return values[0] == values[1]\n",
    "\n",
    "constraints = [\n",
    "    (('F', 'T', 'U', 'W', 'R', 'O'), constraint_unique),\n",
    "    (('O', 'R', 'C_10'), constraint_1),\n",
    "    (('C_10', 'W', 'U', 'C_100'), constraint_2),\n",
    "    (('C_100', 'T', 'O', 'C_1000'), constraint_3),\n",
    "    (('C_1000', 'F'), constraint_4),   \n",
    "]\n",
    "\n",
    "problem = CspProblem(variables, domains, constraints)\n",
    "\n",
    "output = backtrack(problem)\n",
    "print('\\nSolutions:', output)"
   ]
  },
  {
   "cell_type": "code",
   "execution_count": null,
   "metadata": {},
   "outputs": [],
   "source": [
    "# second solution, much easier\n",
    "\n",
    "from simpleai.search import CspProblem, backtrack\n",
    "\n",
    "variables = ('F', 'T', 'U', 'W', 'R', 'O')\n",
    "\n",
    "# the list of values that each variable can take\n",
    "domains = {\n",
    "    'F': list(range(1, 10)),\n",
    "    'T': list(range(1, 10)),\n",
    "    'U': list(range(0, 10)),\n",
    "    'W': list(range(0, 10)),\n",
    "    'R': list(range(0, 10)),\n",
    "    'O': list(range(0, 10)),\n",
    "}\n",
    "\n",
    "def constraint_unique(variables, values):\n",
    "    return len(values) == len(set(values))  # remove repeated values and count\n",
    "\n",
    "def constraint_add(variables, values):\n",
    "    factor = int(str(values[1]) + str(values[3]) + str(values[5]))\n",
    "    result = int(str(values[0]) + str(values[5]) + str(values[2]) + str(values[4]))\n",
    "    return (factor + factor) == result\n",
    "\n",
    "constraints = [\n",
    "    (('F', 'T', 'U', 'W', 'R', 'O'), constraint_unique),\n",
    "    (('F', 'T', 'U', 'W', 'R', 'O'), constraint_add),\n",
    "]\n",
    "\n",
    "problem = CspProblem(variables, domains, constraints)\n",
    "\n",
    "output = backtrack(problem)\n",
    "print('\\nSolutions:', output)"
   ]
  },
  {
   "cell_type": "markdown",
   "metadata": {},
   "source": [
    "## 2. ODD + ODD = EVEN - Exercise\n",
    "\n",
    "One more? Try to find a solution for:\n",
    "\n",
    "```\n",
    "  ODD\n",
    "+ ODD\n",
    "-----\n",
    " EVEN\n",
    "```"
   ]
  },
  {
   "cell_type": "code",
   "execution_count": null,
   "metadata": {},
   "outputs": [],
   "source": [
    "from simpleai.search import CspProblem, backtrack\n",
    "\n"
   ]
  },
  {
   "cell_type": "markdown",
   "metadata": {},
   "source": [
    "## 3. AB x C = AAA - Exercise\n",
    "\n",
    "Try to find a solution for:\n",
    "\n",
    "```\n",
    "   AB\n",
    "x   C\n",
    "-----\n",
    "  AAA\n",
    "```"
   ]
  },
  {
   "cell_type": "code",
   "execution_count": null,
   "metadata": {},
   "outputs": [],
   "source": [
    "from simpleai.search import CspProblem, backtrack\n",
    "\n"
   ]
  }
 ],
 "metadata": {
  "kernelspec": {
   "display_name": "Python 3.9.13 64-bit (microsoft store)",
   "language": "python",
   "name": "python3"
  },
  "language_info": {
   "codemirror_mode": {
    "name": "ipython",
    "version": 3
   },
   "file_extension": ".py",
   "mimetype": "text/x-python",
   "name": "python",
   "nbconvert_exporter": "python",
   "pygments_lexer": "ipython3",
   "version": "3.9.13"
  },
  "vscode": {
   "interpreter": {
    "hash": "c793b23a15265166c51982d7cbd6f1cfd9bae4bf2bd11a226366ff427026a849"
   }
  }
 },
 "nbformat": 4,
 "nbformat_minor": 2
}
