{
 "cells": [
  {
   "cell_type": "markdown",
   "metadata": {},
   "source": [
    "# Are you excited about Artificial Intelligence?\n",
    "\n",
    "Artificial Intelligence (AI) is currently the hottest buzzword in tech. Let's start our course with an inspirational video on the role of Artificial Intelligence and its scope in the future. In the video below, you will find the best clips on Artificial Intelligence by some well-known leaders and influencers such as Bill Gates, Tim Cook, Elon Musk, Sundar Pichai and Jeff Bezos. Artifical Intelligence is definitely the future of the world.\n",
    "\n",
    "Watch the video below (from 0:00 till 4:45).\n",
    "\n",
    "<a href=\"https://www.youtube.com/watch?v=uz8PSSOB-4E\"><img src=\"resources/video1.png\" width=\"400\"></a>"
   ]
  }
 ],
 "metadata": {
  "interpreter": {
   "hash": "56bd1c867e9161da81ceec329c4257478f6bf1cbbbd5f8cfa290a33ee81e11f2"
  },
  "kernelspec": {
   "display_name": "Python 3.9.7 64-bit (windows store)",
   "name": "python3"
  },
  "language_info": {
   "codemirror_mode": {
    "name": "ipython",
    "version": 3
   },
   "file_extension": ".py",
   "mimetype": "text/x-python",
   "name": "python",
   "nbconvert_exporter": "python",
   "pygments_lexer": "ipython3",
   "version": "3.9.7"
  }
 },
 "nbformat": 4,
 "nbformat_minor": 2
}
