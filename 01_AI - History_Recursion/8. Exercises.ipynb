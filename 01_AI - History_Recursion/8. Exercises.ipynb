{
 "cells": [
  {
   "cell_type": "markdown",
   "metadata": {},
   "source": [
    "# Exercises\n",
    "\n",
    "**Important**: Try to think of a recursive solution to the problems below yourself. Do not use the Internet, because you will ruin all the fun."
   ]
  },
  {
   "cell_type": "markdown",
   "metadata": {},
   "source": [
    "## 1. Sum\n",
    "\n",
    "Write a recursive function `sum(n)` that computes the sum of all numbers from 1 to n, where n is given as a parameter."
   ]
  },
  {
   "cell_type": "code",
   "execution_count": 2,
   "metadata": {},
   "outputs": [
    {
     "name": "stdout",
     "output_type": "stream",
     "text": [
      "3\n"
     ]
    }
   ],
   "source": [
    "def sum(n):\n",
    "    if n == 0:\n",
    "        return 0\n",
    "    return n + sum(n-1)\n",
    "\n",
    "\n",
    "print(sum(2))"
   ]
  },
  {
   "cell_type": "markdown",
   "metadata": {},
   "source": [
    "## 2. Sum_array\n",
    "\n",
    "Write a recursive function `sum_array(numbers)` that computes and returns the sum of all elements in an array, where the array is given as a parameter. You can return all elements except the first one of an array using:"
   ]
  },
  {
   "cell_type": "code",
   "execution_count": null,
   "metadata": {},
   "outputs": [],
   "source": [
    "names = [\"Jeff\", \"Peter\", \"April\"]\n",
    "print(names[1:])"
   ]
  },
  {
   "cell_type": "code",
   "execution_count": 12,
   "metadata": {},
   "outputs": [
    {
     "name": "stdout",
     "output_type": "stream",
     "text": [
      "33\n"
     ]
    }
   ],
   "source": [
    "numbers = [5, 7, 6, 5, 4, 6]\n",
    "\n",
    "def sum_array(numbers):\n",
    "    if len(numbers) == 1:\n",
    "        return numbers[0]\n",
    "    return numbers[0] + sum_array(numbers[1:])\n",
    "\n",
    "\n",
    "    \n",
    "print(sum_array(numbers))"
   ]
  },
  {
   "cell_type": "markdown",
   "metadata": {},
   "source": [
    "## 3. Minimum\n",
    "\n",
    "Write a recursive function `minimum(numbers)` that finds and returns the minimum element in an array, where the array is given as a parameter."
   ]
  },
  {
   "cell_type": "code",
   "execution_count": 5,
   "metadata": {},
   "outputs": [
    {
     "name": "stdout",
     "output_type": "stream",
     "text": [
      "Minimum element: 2\n"
     ]
    }
   ],
   "source": [
    "def minimum(numbers):\n",
    "    # Base case: if the list has only one element, return that element\n",
    "    if len(numbers) == 1:\n",
    "        return numbers[0]\n",
    "    else:\n",
    "        min_rest = minimum(numbers[1:])\n",
    "        return numbers[0] if numbers[0] < min_rest else min_rest\n",
    "# Example usage:\n",
    "numbers = [5, 3, 9,2, 41, 55,3,15]\n",
    "print(\"Minimum element:\", minimum(numbers))  # Output: 2"
   ]
  },
  {
   "cell_type": "markdown",
   "metadata": {},
   "source": [
    "## 4. Reverse\n",
    "\n",
    "Write a function `reverse(word)` to reverse a string using recursion."
   ]
  },
  {
   "cell_type": "code",
   "execution_count": null,
   "metadata": {},
   "outputs": [],
   "source": [
    "animal = \"hippopotamus\"\n",
    "\n",
    "\n",
    "    \n",
    "print(reverse(animal))"
   ]
  },
  {
   "cell_type": "markdown",
   "metadata": {},
   "source": [
    "## 5. Is_palindrome\n",
    "\n",
    "Write a recursive function `is_palindrome(sentence)` that determines whether a string is a palindrome. A palindrome is a word, number, phrase, or other sequence of characters which reads the same backward as forward, such as madam or racecar or the number 10801."
   ]
  },
  {
   "cell_type": "code",
   "execution_count": null,
   "metadata": {},
   "outputs": [],
   "source": [
    "import re\n",
    "\n",
    "original = \"A man, a plan, a canal, Panama!\"\n",
    "# original = \"Gate man sees name, garage man sees name tag.\"\n",
    "\n",
    "sentence = re.sub('[^A-Za-z]', '', original)\n",
    "sentence = sentence.lower()\n",
    "print (sentence)\n",
    "\n",
    "\n",
    "    \n",
    "print (\"Is '%s' a palindrome?\" % original, 'yes' if is_palindrome(sentence) else 'no')"
   ]
  },
  {
   "cell_type": "markdown",
   "metadata": {},
   "source": [
    "## 6. Fibonacci\n",
    "\n",
    "Write a recursive function `fibonacci(n)` to print the Fibonacci sequence. In the Fibonacci sequence, each number is the sum of the previous two numbers:\n",
    "                                                               \n",
    "1  1  2  3  5  8  13  21  34  55\n",
    "\n",
    "So fibonacci(9) gives 34."
   ]
  },
  {
   "cell_type": "code",
   "execution_count": null,
   "metadata": {},
   "outputs": [],
   "source": [
    "\n",
    "\n",
    "print(fibonacci(1))\n",
    "print(fibonacci(4))\n",
    "print(fibonacci(9))"
   ]
  },
  {
   "cell_type": "markdown",
   "metadata": {},
   "source": [
    "## 7. Print_tree\n",
    "\n",
    "Since this is a pretty complex exercise, we'll give you the answer code. Check to see if you understand the code, because it's a great intro for the next lesson, when we discuss graphs and graph searches.\n",
    "\n",
    "Consider the following `Node` class."
   ]
  },
  {
   "cell_type": "code",
   "execution_count": null,
   "metadata": {},
   "outputs": [],
   "source": [
    "class Node:\n",
    "    def __init__(self, name, parent = None):\n",
    "        self.name = name\n",
    "        self.children = []\n",
    "        self.parent = parent\n",
    "        if parent is not None:\n",
    "            parent.add_child(self)\n",
    "\n",
    "    def add_child(self, node):\n",
    "        self.children.append(node)\n",
    "        \n",
    "    def get_children(self):\n",
    "        return self.children"
   ]
  },
  {
   "cell_type": "markdown",
   "metadata": {},
   "source": [
    "Now use this class to code the following tree:\n",
    "        \n",
    "<img src=\"./resources/tree.png\"  style=\"height: 250px\"/>"
   ]
  },
  {
   "cell_type": "code",
   "execution_count": null,
   "metadata": {},
   "outputs": [],
   "source": [
    "udo = Node(\"Udo\")\n",
    "marc = Node(\"Marc\", parent=udo)\n",
    "lian = Node(\"Lian\", parent=marc)\n",
    "dan = Node(\"Dan\", parent=udo)\n",
    "jet = Node(\"Jet\", parent=dan)\n",
    "jan = Node(\"Jan\", parent=dan)\n",
    "joe = Node(\"Joe\", parent=dan)\n",
    "\n",
    "for node in udo.get_children():\n",
    "    print(node.name)"
   ]
  },
  {
   "cell_type": "markdown",
   "metadata": {},
   "source": [
    "Finally write a recursive function `print_tree(node)` that prints all the descendants of a given node."
   ]
  },
  {
   "cell_type": "code",
   "execution_count": null,
   "metadata": {},
   "outputs": [],
   "source": [
    "def print_tree(node):\n",
    "    print(node.name)\n",
    "    children = node.get_children()\n",
    "    if len(children) == 0:\n",
    "        return\n",
    "    else:\n",
    "        for node in children:\n",
    "            print_tree(node)\n",
    "    \n",
    "print_tree(udo)"
   ]
  }
 ],
 "metadata": {
  "kernelspec": {
   "display_name": "Python 3.9.13 64-bit (microsoft store)",
   "language": "python",
   "name": "python3"
  },
  "language_info": {
   "codemirror_mode": {
    "name": "ipython",
    "version": 3
   },
   "file_extension": ".py",
   "mimetype": "text/x-python",
   "name": "python",
   "nbconvert_exporter": "python",
   "pygments_lexer": "ipython3",
   "version": "3.12.2"
  },
  "vscode": {
   "interpreter": {
    "hash": "c793b23a15265166c51982d7cbd6f1cfd9bae4bf2bd11a226366ff427026a849"
   }
  }
 },
 "nbformat": 4,
 "nbformat_minor": 2
}
