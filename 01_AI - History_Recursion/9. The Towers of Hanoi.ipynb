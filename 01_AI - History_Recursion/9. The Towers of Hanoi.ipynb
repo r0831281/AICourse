{
 "cells": [
  {
   "cell_type": "markdown",
   "source": [
    "## The Towers of Hanoi\r\n",
    "\r\n",
    "**Important**: Do not use the Internet to find a recursive solution to solve the Tower of Hanoi problem, because you will ruin all the fun.\r\n",
    "\r\n",
    "Let's explain the rules of the towers of Hanoi puzzle once more. The puzzle starts with the disks in a neat stack in ascending order of size on one rod, the smallest at the top.\r\n",
    "\r\n",
    "<img src=\"./resources/towers.jpg\"  style=\"height: 250px\"/>\r\n",
    "\r\n",
    "The objective of the puzzle is to move the entire stack to another rod, obeying the following simple rules:\r\n",
    "\r\n",
    "- Only one disk can be moved at a time.\r\n",
    "- Each move consists of taking the upper disk from one of the stacks and placing it on top of another stack or on an empty rod.\r\n",
    "- No larger disk may be placed on top of a smaller disk."
   ],
   "metadata": {}
  },
  {
   "cell_type": "markdown",
   "source": [
    "## 1. Function declaration\n",
    "\n",
    "Now let's try to write a Python program to solve this puzzle. As you might have guessed, it's going to be a recursive function. First declare the function hanoi with four parameters. The first one is the number of disks to be moved (n), the second is the starting rod (source), the third parameter is the middle rod (we will call this one auxiliary) and the last parameter is the goal rod (destination). So the purpose of our function is to move *n* disks from *source* to *destination* using *auxiliary* as helper. If we named the three rods \"A\", \"B\" and \"C\" and we would like to play the game with 5 disks, the solution up to now would be:\n",
    "\n",
    "```python\n",
    "def hanoi(n, source, auxiliary, destination):\n",
    "    \n",
    "...\n",
    "\n",
    "hanoi(5, \"A\", \"B\", \"C\")\n",
    "```"
   ],
   "metadata": {}
  },
  {
   "cell_type": "markdown",
   "source": [
    "## 2. Base case\n",
    "\n",
    "Let's try to find the base case. Can you figure out this one yourself?\n",
    "\n",
    "Right, the solution for a tower with just one disk is straightforward: we will move the one disk on the source rod to the destination rod and we are finished. If this is all we have to do, we can program it as follows:\n",
    "\n",
    "```python\n",
    "if n == 1:\n",
    "    print(\"move 1 disk from %s to %s\" % (source, destination))\n",
    "```"
   ],
   "metadata": {}
  },
  {
   "cell_type": "markdown",
   "source": [
    "## 3. Recursive case\n",
    "\n",
    "Now let's try to find a way to describe the towers of Hanoi problem in terms of smaller occurences of the same problem. So the original problem is: \"how can we move n disks from source to destination using auxiliary?\". Any ideas to __divide and conquer__?\n",
    "\n",
    "Actually the solution is really simple. Moving n disks from source to destination using auxiliary can be done in three steps:\n",
    "\n",
    "1. move n-1 disks from source to auxiliary using destination\n",
    "2. move 1 disk from source to destination using auxiliary\n",
    "3. move n-1 disks from auxiliary to destination using source\n",
    "\n",
    "<img src=\"./resources/solution.png\"  style=\"height: 500px\"/>\n",
    "\n",
    "This shouldn't be too hard to program. Can you program the else-case yourself now? When you start the program, the solution should be displayed."
   ],
   "metadata": {}
  },
  {
   "cell_type": "code",
   "execution_count": null,
   "source": [
    "# The towers of Hanoi\r\n",
    "\r\n",
    "def hanoi(n, source, auxiliary, destination):\r\n",
    "\r\n",
    "\r\n",
    "hanoi(5, \"A\", \"B\", \"C\")"
   ],
   "outputs": [],
   "metadata": {}
  },
  {
   "cell_type": "markdown",
   "source": [
    "## 4. Towers of Hanoi 2.0\n",
    "\n",
    "It might be a little difficult to see if the solution really works. You can take pencil and paper to simulate the solution, but maybe we can print the content of the different rods and see the disks actually move from one rod to another.\n",
    "\n",
    "First declare a global state variable with the original state: \n",
    "\n",
    "```python\n",
    "state = {\n",
    "  \"A\": [4,3,2,1],\n",
    "  \"B\": [],\n",
    "  \"C\": []\n",
    "}\n",
    "```\n",
    "\n",
    "Then write two functions:\n",
    "\n",
    "1. a function `print_state()` that prints the content of the global state variable\n",
    "2. a function `change_state(source, destination)` that picks the topmost disk from the source array (`pop`-method) and pushes the disk on the destination array (`append`-method)\n",
    "\n",
    "After calling the functions at the right place, the output could be something like this:\n",
    "\n",
    "```\n",
    "A: [4, 3, 2, 1] B: [] C: []\n",
    "A: [4, 3, 2] B: [1] C: []\n",
    "A: [4, 3] B: [1] C: [2]\n",
    "A: [4, 3] B: [] C: [2, 1]\n",
    "A: [4] B: [3] C: [2, 1]\n",
    "A: [4, 1] B: [3] C: [2]\n",
    "A: [4, 1] B: [3, 2] C: []\n",
    "A: [4] B: [3, 2, 1] C: []\n",
    "A: [] B: [3, 2, 1] C: [4]\n",
    "A: [] B: [3, 2] C: [4, 1]\n",
    "A: [2] B: [3] C: [4, 1]\n",
    "A: [2, 1] B: [3] C: [4]\n",
    "A: [2, 1] B: [] C: [4, 3]\n",
    "A: [2] B: [1] C: [4, 3]\n",
    "A: [] B: [1] C: [4, 3, 2]\n",
    "A: [] B: [] C: [4, 3, 2, 1]\n",
    "```\n",
    "\n",
    "Now you can see that the solution actually works. Even with 10 disks if you want!"
   ],
   "metadata": {}
  },
  {
   "cell_type": "code",
   "execution_count": null,
   "source": [
    "# The towers of Hanoi 2.0\r\n",
    "\r\n",
    "def print_state():\r\n",
    "\r\n",
    "def change_state(source, destination):\r\n",
    "        \r\n",
    "def hanoi(n, source, auxiliary, destination):\r\n",
    "\r\n",
    "state = {\r\n",
    "  \"A\": [4,3,2,1],\r\n",
    "  \"B\": [],\r\n",
    "  \"C\": []\r\n",
    "}\r\n",
    "\r\n",
    "print_state()\r\n",
    "hanoi(len(state[\"A\"]), \"A\", \"B\", \"C\")\r\n"
   ],
   "outputs": [],
   "metadata": {}
  }
 ],
 "metadata": {
  "kernelspec": {
   "display_name": "Python 3",
   "language": "python",
   "name": "python3"
  },
  "language_info": {
   "codemirror_mode": {
    "name": "ipython",
    "version": 3
   },
   "file_extension": ".py",
   "mimetype": "text/x-python",
   "name": "python",
   "nbconvert_exporter": "python",
   "pygments_lexer": "ipython3",
   "version": "3.7.3"
  }
 },
 "nbformat": 4,
 "nbformat_minor": 2
}