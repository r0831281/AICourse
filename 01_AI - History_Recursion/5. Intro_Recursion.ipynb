{
 "cells": [
  {
   "cell_type": "markdown",
   "metadata": {},
   "source": [
    "# Recursion\n",
    "\n",
    "Our first lesson is about recursion, a common method of simplification to divide a problem into subproblems of the same type.\n",
    "As a computer programming technique, this is called __divide and conquer__ and is the key to the design of many important algorithms. Recursion is not really needed to implement AI, but the knowledge of this programming technique will help us to understand the AI algorithms we will use in the following lessons. At the end of this lesson you will use recursion to solve your first pseudo-AI problem, namely _The Towers of Hanoi_."
   ]
  },
  {
   "cell_type": "markdown",
   "metadata": {},
   "source": [
    "## The Towers of Hanoi\n",
    "\n",
    "The Towers of Hanoi is a mathematical game or puzzle. It consists of three rods and a number of disks of different sizes. The puzzle starts with the disks in a neat stack in ascending order of size on one rod, the smallest at the top.\n",
    "\n",
    "<img src=\"./resources/towers.jpg\"  style=\"height: 250px\"/>\n",
    "\n",
    "The objective of the puzzle is to move the entire stack to another rod, obeying the following simple rules:\n",
    "\n",
    "- Only one disk can be moved at a time.\n",
    "- Each move consists of taking the upper disk from one of the stacks and placing it on top of another stack or on an empty rod.\n",
    "- No larger disk may be placed on top of a smaller disk."
   ]
  }
 ],
 "metadata": {
  "kernelspec": {
   "display_name": "Python 3.9.13 64-bit (microsoft store)",
   "language": "python",
   "name": "python3"
  },
  "language_info": {
   "codemirror_mode": {
    "name": "ipython",
    "version": 3
   },
   "file_extension": ".py",
   "mimetype": "text/x-python",
   "name": "python",
   "nbconvert_exporter": "python",
   "pygments_lexer": "ipython3",
   "version": "3.9.13"
  },
  "vscode": {
   "interpreter": {
    "hash": "c793b23a15265166c51982d7cbd6f1cfd9bae4bf2bd11a226366ff427026a849"
   }
  }
 },
 "nbformat": 4,
 "nbformat_minor": 2
}
