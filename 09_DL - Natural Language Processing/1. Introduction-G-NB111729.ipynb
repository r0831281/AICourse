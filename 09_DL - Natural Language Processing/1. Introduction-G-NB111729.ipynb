{
 "cells": [
  {
   "cell_type": "markdown",
   "metadata": {},
   "source": [
    "# Natural Language Processing\n",
    "\n",
    "Natural Language Processing (NLP) is the field of Artificial Intelligence concerned with the processing, understanding, and generation of human language. It is used extensively in search engines, conversational interfaces, document processors, and so on. Machines can handle structured data well, even semi-structured data like images, but when it comes to working with free-form text, they have a hard time. Language and text is very versatile.\n",
    "\n",
    "The goal of NLP is to develop algorithms that enable computers to understand free-form text, understand the information embedded in that text, and even generate an answer if it was a question. \n",
    "\n",
    "# High level overview of NLP\n",
    "\n",
    "Let's first get started with a general and high level, but pretty complete, overview of the field of NLP.\n",
    "\n",
    "<a href=\"https://www.youtube.com/watch?v=ZifynN2oyhs&ab_channel=AssemblyAI\"><img src=\"resources/NLP_overview.png\" width=\"800\"></a>\n",
    "\n",
    "\n",
    "In the next video (from 0:00 till 7:47) we'll dive a little deeper into the details of NLP\n",
    "\n",
    "\n",
    "<a href=\"https://www.youtube.com/embed/oi0JXuL19TA?si=-8QG1G4aqUynjxfw?end=747\"><img src=\"resources/NLP_video.png\" width=\"800\"></a>\n",
    "\n",
    "\n",
    "# Natural Language Understanding (NLU)\n",
    "\n",
    "NLU involves encoding free-form text in a way that allows us to process and model it effectively. By transforming text into knowledge representations, we create vectors that capture essential information. For instance, when processing an email, an NLU system generates a vector embodying crucial details—enabling classification (e.g., HR, finance, or legal).\n",
    "\n",
    "**Encoder models** combine free-form texts into relevant vector representations aligned with specific domains.\n",
    "\n",
    "# Natural Language Generation (NLG)\n",
    "\n",
    "NLG complements NLU by creating human-like text from structured data or other non-linguistic inputs. NLG systems transform this information into coherent sentences, paragraphs, or longer texts. Think of NLG as the counterpart to NLU—it focuses on generating meaningful content from structured input. **Decoder models** play a key role in NLG, converting encoded vectors into expressive, contextually appropriate language. "
   ]
  }
 ],
 "metadata": {
  "kernelspec": {
   "display_name": "Python 3.10.6 ('DL_env': venv)",
   "language": "python",
   "name": "python3"
  },
  "language_info": {
   "codemirror_mode": {
    "name": "ipython",
    "version": 3
   },
   "file_extension": ".py",
   "mimetype": "text/x-python",
   "name": "python",
   "nbconvert_exporter": "python",
   "pygments_lexer": "ipython3",
   "version": "3.10.6"
  },
  "vscode": {
   "interpreter": {
    "hash": "775b7576bf7a34da706ed620d7f0d2338b0743a1fe22363e0994f105195362b0"
   }
  }
 },
 "nbformat": 4,
 "nbformat_minor": 2
}
